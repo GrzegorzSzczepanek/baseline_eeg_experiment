{
 "cells": [
  {
   "cell_type": "code",
   "execution_count": 16,
   "metadata": {},
   "outputs": [],
   "source": [
    "import mne\n",
    "import os"
   ]
  },
  {
   "cell_type": "code",
   "execution_count": 17,
   "metadata": {},
   "outputs": [],
   "source": [
    "import numpy as np\n",
    "from scipy.ndimage import zoom\n",
    "\n",
    "# Define augmentation functions\n",
    "def time_shift(epoch, shift_max):\n",
    "    shift = np.random.randint(-shift_max, shift_max)\n",
    "    return np.roll(epoch, shift, axis=-1)  # roll along the time axis\n",
    "\n",
    "def time_scaling(epoch, scaling_factor):\n",
    "    return zoom(epoch, (1, scaling_factor))  # zoom only along the time axis\n",
    "\n",
    "def amplitude_scaling(epoch, scaling_factor):\n",
    "    return epoch * scaling_factor\n",
    "\n",
    "def add_noise(epoch, noise_level):\n",
    "    noise = np.random.normal(0, noise_level, epoch.shape)\n",
    "    return epoch + noise\n",
    "\n",
    "# Function to augment each epoch\n",
    "def augment_epoch(epoch):\n",
    "    augmented_epoch = time_shift(epoch, shift_max=10)\n",
    "    augmented_epoch = time_scaling(augmented_epoch, scaling_factor=1.1)\n",
    "    augmented_epoch = amplitude_scaling(augmented_epoch, scaling_factor=1.05)\n",
    "    augmented_epoch = add_noise(augmented_epoch, noise_level=0.01)\n",
    "    return augmented_epoch\n"
   ]
  },
  {
   "cell_type": "code",
   "execution_count": 24,
   "metadata": {},
   "outputs": [],
   "source": [
    "def create_epochs_for_digits(data_dir, output_dir, digit_events=('digit 1 shown', 'digit 2 shown', 'digit 3 shown', 'digit 4 shown', 'digit 5 shown'), to_ica=False):\n",
    "    if not os.path.exists(output_dir):\n",
    "        os.makedirs(output_dir)\n",
    "\n",
    "    files = [f for f in os.listdir(data_dir) if f.endswith('.fif')]\n",
    "\n",
    "    for file in files:\n",
    "        file_path = os.path.join(data_dir, file)\n",
    "        \n",
    "        # Conversion to microvolts\n",
    "        raw = mne.io.read_raw_fif(file_path, preload=True)\n",
    "        raw.apply_function(fun=lambda x: x * 10**(-6))\n",
    "        raw.filter(l_freq=1, h_freq=40)\n",
    "        events, event_dict = mne.events_from_annotations(raw)\n",
    "        raw.pick_types(eeg=True)\n",
    "\n",
    "        # print events for debugging\n",
    "        # print(f\"Events found in file {file}: {events}\")\n",
    "\n",
    "        event_dict = {\n",
    "            'digit 1 shown': 2,\n",
    "            'digit 2 shown': 3,\n",
    "            'digit 3 shown': 4,\n",
    "            'digit 4 shown': 5,\n",
    "            'digit 5 shown': 6\n",
    "        }\n",
    "        events, digit_events = mne.events_from_annotations(raw)\n",
    "        \n",
    "        selected_event_dict = {key: value for key, value in event_dict.items() if key in digit_events.keys()}\n",
    "\n",
    "        if to_ica:\n",
    "            ica = mne.preprocessing.ICA(n_components=16, random_state=97, max_iter=800)\n",
    "            ica.fit(raw)\n",
    "            raw_ica = ica.apply(raw)\n",
    "            epochs = mne.Epochs(raw_ica, events, event_dict, tmin=-0.2, tmax=0.5, baseline=(None, 0), preload=True)\n",
    "            output_path = os.path.join(output_dir, f'{os.path.splitext(file)[0]}.epo.fif')\n",
    "\n",
    "            epochs.save(output_path, overwrite=True)\n",
    "            print(f'Saved epochs for file {file} to {output_path}')\n",
    "        else:\n",
    "            try:\n",
    "                epochs = mne.Epochs(raw, events, event_id=selected_event_dict, tmin=-0.2, tmax=0.5, baseline=(None, 0))\n",
    "                \n",
    "                output_path = os.path.join(output_dir, f'{os.path.splitext(file)[0]}_epo.fif')\n",
    "\n",
    "                epochs.save(output_path, overwrite=True)\n",
    "                print(f'Saved epochs for file {file} to {output_path}')\n",
    "            except ValueError as e:\n",
    "                print(f\"Error processing file {file}: {e}\")\n",
    "                \n",
    "                \n"
   ]
  },
  {
   "cell_type": "code",
   "execution_count": 25,
   "metadata": {},
   "outputs": [
    {
     "name": "stdout",
     "output_type": "stream",
     "text": [
      "Saved epochs for file GS004.fif to /home/grzesiek/documents/programming/projects/eeg_digit_classification/data/epochs/GS004.epo.fif\n",
      "Saved epochs for file GS005.fif to /home/grzesiek/documents/programming/projects/eeg_digit_classification/data/epochs/GS005.epo.fif\n",
      "Saved epochs for file GS006.fif to /home/grzesiek/documents/programming/projects/eeg_digit_classification/data/epochs/GS006.epo.fif\n",
      "Saved epochs for file GS003.fif to /home/grzesiek/documents/programming/projects/eeg_digit_classification/data/epochs/GS003.epo.fif\n",
      "Saved epochs for file GS002.fif to /home/grzesiek/documents/programming/projects/eeg_digit_classification/data/epochs/GS002.epo.fif\n",
      "Saved epochs for file DJ002.fif to /home/grzesiek/documents/programming/projects/eeg_digit_classification/data/epochs/DJ002.epo.fif\n",
      "Saved epochs for file DJ001.fif to /home/grzesiek/documents/programming/projects/eeg_digit_classification/data/epochs/DJ001.epo.fif\n",
      "Saved epochs for file GS001.fif to /home/grzesiek/documents/programming/projects/eeg_digit_classification/data/epochs/GS001.epo.fif\n"
     ]
    }
   ],
   "source": [
    "data_dir = '/home/grzesiek/documents/programming/projects/eeg_digit_classification/data/cyfry'\n",
    "output_dir = '/home/grzesiek/documents/programming/projects/eeg_digit_classification/data/epochs'\n",
    "create_epochs_for_digits(data_dir, output_dir, to_ica=True)"
   ]
  },
  {
   "cell_type": "code",
   "execution_count": null,
   "metadata": {},
   "outputs": [],
   "source": []
  }
 ],
 "metadata": {
  "kernelspec": {
   "display_name": "mne",
   "language": "python",
   "name": "python3"
  },
  "language_info": {
   "codemirror_mode": {
    "name": "ipython",
    "version": 3
   },
   "file_extension": ".py",
   "mimetype": "text/x-python",
   "name": "python",
   "nbconvert_exporter": "python",
   "pygments_lexer": "ipython3",
   "version": "3.12.2"
  }
 },
 "nbformat": 4,
 "nbformat_minor": 2
}
