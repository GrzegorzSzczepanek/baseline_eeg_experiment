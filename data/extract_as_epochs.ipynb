{
 "cells": [
  {
   "cell_type": "code",
   "execution_count": 3,
   "metadata": {},
   "outputs": [],
   "source": [
    "import mne\n",
    "import os"
   ]
  },
  {
   "cell_type": "code",
   "execution_count": 28,
   "metadata": {},
   "outputs": [],
   "source": [
    "def create_epochs_for_digits(data_dir, output_dir, digit_events=('digit 1 shown', 'digit 2 shown', 'digit 3 shown', 'digit 4 shown', 'digit 5 shown'), to_ica=False, to_ica_dir=\"ica\"):\n",
    "    if not os.path.exists(output_dir):\n",
    "        os.makedirs(output_dir)\n",
    "\n",
    "    files = [f for f in os.listdir(data_dir) if f.endswith('.fif')]\n",
    "\n",
    "    for file in files:\n",
    "        file_path = os.path.join(data_dir, file)\n",
    "        raw = mne.io.read_raw_fif(file_path, preload=True)\n",
    "        events = mne.find_events(raw)\n",
    "\n",
    "        # Print found events for debugging\n",
    "        print(f\"Events found in file {file}: {events}\")\n",
    "\n",
    "        event_dict = {\n",
    "            'digit 1 shown': 1,\n",
    "            'digit 2 shown': 2,\n",
    "            'digit 3 shown': 3,\n",
    "            'digit 4 shown': 4,\n",
    "            'digit 5 shown': 5\n",
    "        }\n",
    "        events, event_dict = mne.events_from_annotations(raw)\n",
    "\n",
    "        selected_event_dict = {k: v for k, v in event_dict.items() if k in digit_events}\n",
    "\n",
    "        if to_ica:\n",
    "            ica = mne.preprocessing.ICA(n_components=len(raw.ch_names), random_state=97, max_iter=800)\n",
    "            ica.fit(raw)\n",
    "            ica.apply(raw)\n",
    "            if to_ica_dir:\n",
    "                if not os.path.exists(to_ica_dir):\n",
    "                    os.makedirs(to_ica_dir)\n",
    "                ica.save(os.path.join(to_ica_dir, f'{os.path.splitext(file)[0]}.ica.fif'))\n",
    "\n",
    "        try:\n",
    "            epochs = mne.Epochs(raw, events, event_id=selected_event_dict, tmin=-0.2, tmax=0.5, baseline=(None, 0))\n",
    "            output_path = os.path.join(output_dir, f'{os.path.splitext(file)[0]}.epo.fif')\n",
    "            epochs.save(output_path, overwrite=True)\n",
    "            print(f'Saved epochs for file {file} to {output_path}')\n",
    "        except ValueError as e:\n",
    "            print(f\"Error processing file {file}: {e}\")"
   ]
  },
  {
   "cell_type": "code",
   "execution_count": 29,
   "metadata": {},
   "outputs": [
    {
     "name": "stdout",
     "output_type": "stream",
     "text": [
      "Events found in file GS004.fif: []\n",
      "{'blank screen': 1, 'digit 1 shown': 2, 'digit 2 shown': 3, 'digit 3 shown': 4, 'digit 4 shown': 5, 'digit 5 shown': 6, 'fixation cross': 7, 'real experiment start': 8}\n",
      "Saved epochs for file GS004.fif to /home/grzesiek/documents/programming/projects/eeg_digit_classification/data/epochs/GS004.epo.fif\n",
      "Events found in file GS005.fif: []\n",
      "{'blank screen': 1, 'digit 1 shown': 2, 'digit 2 shown': 3, 'digit 3 shown': 4, 'digit 4 shown': 5, 'digit 5 shown': 6, 'fixation cross': 7, 'real experiment start': 8}\n",
      "Saved epochs for file GS005.fif to /home/grzesiek/documents/programming/projects/eeg_digit_classification/data/epochs/GS005.epo.fif\n",
      "Events found in file GS006.fif: []\n",
      "{'blank screen': 1, 'digit 1 shown': 2, 'digit 2 shown': 3, 'digit 3 shown': 4, 'digit 4 shown': 5, 'digit 5 shown': 6, 'fixation cross': 7, 'real experiment start': 8}\n",
      "Saved epochs for file GS006.fif to /home/grzesiek/documents/programming/projects/eeg_digit_classification/data/epochs/GS006.epo.fif\n",
      "Events found in file GS003.fif: []\n",
      "{'blank screen': 1, 'digit 1 shown': 2, 'digit 2 shown': 3, 'digit 3 shown': 4, 'digit 4 shown': 5, 'digit 5 shown': 6, 'fixation cross': 7, 'real experiment start': 8}\n",
      "Saved epochs for file GS003.fif to /home/grzesiek/documents/programming/projects/eeg_digit_classification/data/epochs/GS003.epo.fif\n",
      "Events found in file GS002.fif: []\n",
      "{'blank screen': 1, 'digit 1 shown': 2, 'digit 2 shown': 3, 'digit 3 shown': 4, 'digit 4 shown': 5, 'digit 5 shown': 6, 'fixation cross': 7, 'real experiment start': 8}\n",
      "Saved epochs for file GS002.fif to /home/grzesiek/documents/programming/projects/eeg_digit_classification/data/epochs/GS002.epo.fif\n",
      "Events found in file DJ002.fif: []\n",
      "{'blank screen': 1, 'digit 1 shown': 2, 'digit 2 shown': 3, 'digit 3 shown': 4, 'digit 4 shown': 5, 'digit 5 shown': 6, 'fixation cross': 7, 'real experiment start': 8}\n",
      "Saved epochs for file DJ002.fif to /home/grzesiek/documents/programming/projects/eeg_digit_classification/data/epochs/DJ002.epo.fif\n",
      "Events found in file DJ001.fif: []\n",
      "{'blank screen': 1, 'digit 1 shown': 2, 'digit 2 shown': 3, 'digit 3 shown': 4, 'digit 4 shown': 5, 'digit 5 shown': 6, 'fixation cross': 7, 'real experiment start': 8}\n",
      "Saved epochs for file DJ001.fif to /home/grzesiek/documents/programming/projects/eeg_digit_classification/data/epochs/DJ001.epo.fif\n",
      "Events found in file GS001.fif: []\n",
      "{'blank screen': 1, 'digit 1 shown': 2, 'digit 2 shown': 3, 'digit 3 shown': 4, 'digit 4 shown': 5, 'digit 5 shown': 6, 'fixation cross': 7, 'real experiment start': 8}\n",
      "Saved epochs for file GS001.fif to /home/grzesiek/documents/programming/projects/eeg_digit_classification/data/epochs/GS001.epo.fif\n"
     ]
    }
   ],
   "source": [
    "data_dir = '/home/grzesiek/documents/programming/projects/eeg_digit_classification/data/cyfry'\n",
    "output_dir = '/home/grzesiek/documents/programming/projects/eeg_digit_classification/data/epochs'\n",
    "create_epochs_for_digits(data_dir, output_dir)"
   ]
  },
  {
   "cell_type": "code",
   "execution_count": null,
   "metadata": {},
   "outputs": [],
   "source": []
  }
 ],
 "metadata": {
  "language_info": {
   "name": "python"
  }
 },
 "nbformat": 4,
 "nbformat_minor": 2
}
